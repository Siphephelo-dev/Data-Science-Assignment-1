{
  "nbformat": 4,
  "nbformat_minor": 0,
  "metadata": {
    "colab": {
      "provenance": [],
      "authorship_tag": "ABX9TyOpteVdWvANmOcAwCO3WUPc",
      "include_colab_link": true
    },
    "kernelspec": {
      "name": "python3",
      "display_name": "Python 3"
    },
    "language_info": {
      "name": "python"
    }
  },
  "cells": [
    {
      "cell_type": "markdown",
      "metadata": {
        "id": "view-in-github",
        "colab_type": "text"
      },
      "source": [
        "<a href=\"https://colab.research.google.com/github/Siphephelo-dev/Data-Science-Assignment-1/blob/main/Data_Science_assignment_Problem_2.ipynb\" target=\"_parent\"><img src=\"https://colab.research.google.com/assets/colab-badge.svg\" alt=\"Open In Colab\"/></a>"
      ]
    },
    {
      "cell_type": "code",
      "execution_count": 1,
      "metadata": {
        "colab": {
          "base_uri": "https://localhost:8080/",
          "height": 73
        },
        "id": "W3BfHppuCdfD",
        "outputId": "7d0fcdc3-1940-488c-9960-c2fd5fc1f4eb"
      },
      "outputs": [
        {
          "output_type": "display_data",
          "data": {
            "text/plain": [
              "<IPython.core.display.HTML object>"
            ],
            "text/html": [
              "\n",
              "     <input type=\"file\" id=\"files-cce9a026-fa0f-4678-9755-1960ec8b401c\" name=\"files[]\" multiple disabled\n",
              "        style=\"border:none\" />\n",
              "     <output id=\"result-cce9a026-fa0f-4678-9755-1960ec8b401c\">\n",
              "      Upload widget is only available when the cell has been executed in the\n",
              "      current browser session. Please rerun this cell to enable.\n",
              "      </output>\n",
              "      <script>// Copyright 2017 Google LLC\n",
              "//\n",
              "// Licensed under the Apache License, Version 2.0 (the \"License\");\n",
              "// you may not use this file except in compliance with the License.\n",
              "// You may obtain a copy of the License at\n",
              "//\n",
              "//      http://www.apache.org/licenses/LICENSE-2.0\n",
              "//\n",
              "// Unless required by applicable law or agreed to in writing, software\n",
              "// distributed under the License is distributed on an \"AS IS\" BASIS,\n",
              "// WITHOUT WARRANTIES OR CONDITIONS OF ANY KIND, either express or implied.\n",
              "// See the License for the specific language governing permissions and\n",
              "// limitations under the License.\n",
              "\n",
              "/**\n",
              " * @fileoverview Helpers for google.colab Python module.\n",
              " */\n",
              "(function(scope) {\n",
              "function span(text, styleAttributes = {}) {\n",
              "  const element = document.createElement('span');\n",
              "  element.textContent = text;\n",
              "  for (const key of Object.keys(styleAttributes)) {\n",
              "    element.style[key] = styleAttributes[key];\n",
              "  }\n",
              "  return element;\n",
              "}\n",
              "\n",
              "// Max number of bytes which will be uploaded at a time.\n",
              "const MAX_PAYLOAD_SIZE = 100 * 1024;\n",
              "\n",
              "function _uploadFiles(inputId, outputId) {\n",
              "  const steps = uploadFilesStep(inputId, outputId);\n",
              "  const outputElement = document.getElementById(outputId);\n",
              "  // Cache steps on the outputElement to make it available for the next call\n",
              "  // to uploadFilesContinue from Python.\n",
              "  outputElement.steps = steps;\n",
              "\n",
              "  return _uploadFilesContinue(outputId);\n",
              "}\n",
              "\n",
              "// This is roughly an async generator (not supported in the browser yet),\n",
              "// where there are multiple asynchronous steps and the Python side is going\n",
              "// to poll for completion of each step.\n",
              "// This uses a Promise to block the python side on completion of each step,\n",
              "// then passes the result of the previous step as the input to the next step.\n",
              "function _uploadFilesContinue(outputId) {\n",
              "  const outputElement = document.getElementById(outputId);\n",
              "  const steps = outputElement.steps;\n",
              "\n",
              "  const next = steps.next(outputElement.lastPromiseValue);\n",
              "  return Promise.resolve(next.value.promise).then((value) => {\n",
              "    // Cache the last promise value to make it available to the next\n",
              "    // step of the generator.\n",
              "    outputElement.lastPromiseValue = value;\n",
              "    return next.value.response;\n",
              "  });\n",
              "}\n",
              "\n",
              "/**\n",
              " * Generator function which is called between each async step of the upload\n",
              " * process.\n",
              " * @param {string} inputId Element ID of the input file picker element.\n",
              " * @param {string} outputId Element ID of the output display.\n",
              " * @return {!Iterable<!Object>} Iterable of next steps.\n",
              " */\n",
              "function* uploadFilesStep(inputId, outputId) {\n",
              "  const inputElement = document.getElementById(inputId);\n",
              "  inputElement.disabled = false;\n",
              "\n",
              "  const outputElement = document.getElementById(outputId);\n",
              "  outputElement.innerHTML = '';\n",
              "\n",
              "  const pickedPromise = new Promise((resolve) => {\n",
              "    inputElement.addEventListener('change', (e) => {\n",
              "      resolve(e.target.files);\n",
              "    });\n",
              "  });\n",
              "\n",
              "  const cancel = document.createElement('button');\n",
              "  inputElement.parentElement.appendChild(cancel);\n",
              "  cancel.textContent = 'Cancel upload';\n",
              "  const cancelPromise = new Promise((resolve) => {\n",
              "    cancel.onclick = () => {\n",
              "      resolve(null);\n",
              "    };\n",
              "  });\n",
              "\n",
              "  // Wait for the user to pick the files.\n",
              "  const files = yield {\n",
              "    promise: Promise.race([pickedPromise, cancelPromise]),\n",
              "    response: {\n",
              "      action: 'starting',\n",
              "    }\n",
              "  };\n",
              "\n",
              "  cancel.remove();\n",
              "\n",
              "  // Disable the input element since further picks are not allowed.\n",
              "  inputElement.disabled = true;\n",
              "\n",
              "  if (!files) {\n",
              "    return {\n",
              "      response: {\n",
              "        action: 'complete',\n",
              "      }\n",
              "    };\n",
              "  }\n",
              "\n",
              "  for (const file of files) {\n",
              "    const li = document.createElement('li');\n",
              "    li.append(span(file.name, {fontWeight: 'bold'}));\n",
              "    li.append(span(\n",
              "        `(${file.type || 'n/a'}) - ${file.size} bytes, ` +\n",
              "        `last modified: ${\n",
              "            file.lastModifiedDate ? file.lastModifiedDate.toLocaleDateString() :\n",
              "                                    'n/a'} - `));\n",
              "    const percent = span('0% done');\n",
              "    li.appendChild(percent);\n",
              "\n",
              "    outputElement.appendChild(li);\n",
              "\n",
              "    const fileDataPromise = new Promise((resolve) => {\n",
              "      const reader = new FileReader();\n",
              "      reader.onload = (e) => {\n",
              "        resolve(e.target.result);\n",
              "      };\n",
              "      reader.readAsArrayBuffer(file);\n",
              "    });\n",
              "    // Wait for the data to be ready.\n",
              "    let fileData = yield {\n",
              "      promise: fileDataPromise,\n",
              "      response: {\n",
              "        action: 'continue',\n",
              "      }\n",
              "    };\n",
              "\n",
              "    // Use a chunked sending to avoid message size limits. See b/62115660.\n",
              "    let position = 0;\n",
              "    do {\n",
              "      const length = Math.min(fileData.byteLength - position, MAX_PAYLOAD_SIZE);\n",
              "      const chunk = new Uint8Array(fileData, position, length);\n",
              "      position += length;\n",
              "\n",
              "      const base64 = btoa(String.fromCharCode.apply(null, chunk));\n",
              "      yield {\n",
              "        response: {\n",
              "          action: 'append',\n",
              "          file: file.name,\n",
              "          data: base64,\n",
              "        },\n",
              "      };\n",
              "\n",
              "      let percentDone = fileData.byteLength === 0 ?\n",
              "          100 :\n",
              "          Math.round((position / fileData.byteLength) * 100);\n",
              "      percent.textContent = `${percentDone}% done`;\n",
              "\n",
              "    } while (position < fileData.byteLength);\n",
              "  }\n",
              "\n",
              "  // All done.\n",
              "  yield {\n",
              "    response: {\n",
              "      action: 'complete',\n",
              "    }\n",
              "  };\n",
              "}\n",
              "\n",
              "scope.google = scope.google || {};\n",
              "scope.google.colab = scope.google.colab || {};\n",
              "scope.google.colab._files = {\n",
              "  _uploadFiles,\n",
              "  _uploadFilesContinue,\n",
              "};\n",
              "})(self);\n",
              "</script> "
            ]
          },
          "metadata": {}
        },
        {
          "output_type": "stream",
          "name": "stdout",
          "text": [
            "Saving Question 2 Datasets .csv to Question 2 Datasets .csv\n"
          ]
        }
      ],
      "source": [
        "import pandas as pd\n",
        "import numpy as np\n",
        "from sklearn.cluster import KMeans\n",
        "from sklearn.preprocessing import StandardScaler, LabelEncoder\n",
        "from sklearn.model_selection import train_test_split, cross_val_score\n",
        "from sklearn.naive_bayes import GaussianNB\n",
        "from sklearn.svm import SVC\n",
        "from sklearn.metrics import classification_report, confusion_matrix, f1_score\n",
        "import matplotlib.pyplot as plt\n",
        "\n",
        "# For uploading files in Google Colab\n",
        "from google.colab import files\n",
        "uploaded = files.upload()"
      ]
    },
    {
      "cell_type": "code",
      "source": [
        "# Load fraud detection data\n",
        "fraud_data = pd.read_csv('Question 2 Datasets .csv')"
      ],
      "metadata": {
        "id": "eaK5aJQJC2dQ"
      },
      "execution_count": 2,
      "outputs": []
    },
    {
      "cell_type": "code",
      "source": [
        "# Separate labeled and unlabeled data\n",
        "labeled_data = fraud_data[fraud_data['Is_Fraud (Labeled Subset)'].isin([0.0, 1.0])].copy()\n",
        "unlabeled_data = fraud_data[fraud_data['Is_Fraud (Labeled Subset)'] == -1.0].copy()\n",
        "\n",
        "print(f\"Labeled samples: {len(labeled_data)}\")\n",
        "print(f\"Unlabeled samples: {len(unlabeled_data)}\")\n"
      ],
      "metadata": {
        "colab": {
          "base_uri": "https://localhost:8080/"
        },
        "id": "ymrVJpBNC6uO",
        "outputId": "3e479e4f-641c-4980-9937-7c6063e08eef"
      },
      "execution_count": 3,
      "outputs": [
        {
          "output_type": "stream",
          "name": "stdout",
          "text": [
            "Labeled samples: 100\n",
            "Unlabeled samples: 100\n"
          ]
        }
      ]
    },
    {
      "cell_type": "code",
      "source": [
        "# Feature Engineering for Clustering\n",
        "def preprocess_features(df):\n",
        "    df_processed = df.copy()\n",
        "\n",
        "    # One-Hot Encoding for categorical features\n",
        "    location_encoded = pd.get_dummies(df['Location'], prefix='Location')\n",
        "    merchant_encoded = pd.get_dummies(df['Merchant'], prefix='Merchant')\n",
        "\n",
        "    # Combine with numerical features\n",
        "    df_processed = pd.concat([\n",
        "        df_processed[['Amount', 'Time_Hour']],\n",
        "        location_encoded,\n",
        "        merchant_encoded\n",
        "    ], axis=1)\n",
        "\n",
        "    return df_processed\n",
        "\n",
        "# Preprocess unlabeled data for clustering\n",
        "X_unlabeled = preprocess_features(unlabeled_data)\n",
        "\n",
        "# Scale features (K-Means is distance-based)\n",
        "scaler = StandardScaler()\n",
        "X_unlabeled_scaled = scaler.fit_transform(X_unlabeled)"
      ],
      "metadata": {
        "id": "aUU5NpY4DN17"
      },
      "execution_count": 4,
      "outputs": []
    },
    {
      "cell_type": "code",
      "source": [
        "# Determine optimal k using elbow method\n",
        "def find_optimal_k(X, max_k=10):\n",
        "    inertias = []\n",
        "    k_range = range(1, max_k + 1)\n",
        "\n",
        "    for k in k_range:\n",
        "        kmeans = KMeans(n_clusters=k, random_state=42)\n",
        "        kmeans.fit(X)\n",
        "        inertias.append(kmeans.inertia_)\n",
        "\n",
        "    return k_range, inertias\n",
        "\n",
        "k_range, inertias = find_optimal_k(X_unlabeled_scaled)"
      ],
      "metadata": {
        "id": "nnuRA1tODP2L"
      },
      "execution_count": 5,
      "outputs": []
    },
    {
      "cell_type": "code",
      "source": [
        "# Plot elbow curve\n",
        "plt.figure(figsize=(10, 6))\n",
        "plt.plot(k_range, inertias, 'bo-')\n",
        "plt.xlabel('Number of Clusters (k)')\n",
        "plt.ylabel('Within-Cluster Sum of Squares')\n",
        "plt.title('Elbow Method for Optimal k')\n",
        "plt.grid(True)\n",
        "plt.show()"
      ],
      "metadata": {
        "colab": {
          "base_uri": "https://localhost:8080/",
          "height": 564
        },
        "id": "06Xl-vj5DVcc",
        "outputId": "2544da79-be9a-4343-804d-0247792e5783"
      },
      "execution_count": 12,
      "outputs": [
        {
          "output_type": "display_data",
          "data": {
            "text/plain": [
              "<Figure size 1000x600 with 1 Axes>"
            ],
            "image/png": "[encoded data removed]"
          },
          "metadata": {}
        }
      ]
    },
    {
      "cell_type": "code",
      "source": [
        "# Apply K-Means with optimal k (let's use k=4 based on typical fraud patterns)\n",
        "optimal_k = 4\n",
        "kmeans = KMeans(n_clusters=optimal_k, random_state=42)\n",
        "clusters = kmeans.fit_predict(X_unlabeled_scaled)\n"
      ],
      "metadata": {
        "id": "s5I2Zl2SD87J"
      },
      "execution_count": 7,
      "outputs": []
    },
    {
      "cell_type": "code",
      "source": [
        "# Analyze clusters for anomaly detection\n",
        "cluster_analysis = pd.DataFrame({\n",
        "    'Amount': unlabeled_data['Amount'],\n",
        "    'Time_Hour': unlabeled_data['Time_Hour'],\n",
        "    'Location': unlabeled_data['Location'],\n",
        "    'Merchant': unlabeled_data['Merchant'],\n",
        "    'Cluster': clusters\n",
        "})"
      ],
      "metadata": {
        "id": "-PZge2N6EbNO"
      },
      "execution_count": 8,
      "outputs": []
    },
    {
      "cell_type": "code",
      "source": [
        "print(\"\\nCluster Analysis:\")\n",
        "for i in range(optimal_k):\n",
        "    cluster_data = cluster_analysis[cluster_analysis['Cluster'] == i]\n",
        "    print(f\"\\nCluster {i} (Size: {len(cluster_data)}):\")\n",
        "    print(f\"  Avg Amount: ${cluster_data['Amount'].mean():.2f}\")\n",
        "    print(f\"  Avg Time: {cluster_data['Time_Hour'].mean():.1f}h\")\n",
        "    print(f\"  Common Location: {cluster_data['Location'].mode().iloc[0]}\")\n",
        "    print(f\"  Common Merchant: {cluster_data['Merchant'].mode().iloc[0]}\")"
      ],
      "metadata": {
        "colab": {
          "base_uri": "https://localhost:8080/"
        },
        "id": "O0p2ZsJKEhNR",
        "outputId": "b9cda8f1-7c4e-4dbf-f608-04eee26feb26"
      },
      "execution_count": 9,
      "outputs": [
        {
          "output_type": "stream",
          "name": "stdout",
          "text": [
            "\n",
            "Cluster Analysis:\n",
            "\n",
            "Cluster 0 (Size: 22):\n",
            "  Avg Amount: $956.43\n",
            "  Avg Time: 11.5h\n",
            "  Common Location: ATM\n",
            "  Common Merchant: Food\n",
            "\n",
            "Cluster 1 (Size: 28):\n",
            "  Avg Amount: $1019.05\n",
            "  Avg Time: 13.1h\n",
            "  Common Location: ATM\n",
            "  Common Merchant: Travel\n",
            "\n",
            "Cluster 2 (Size: 20):\n",
            "  Avg Amount: $899.63\n",
            "  Avg Time: 13.7h\n",
            "  Common Location: Store\n",
            "  Common Merchant: Bank\n",
            "\n",
            "Cluster 3 (Size: 30):\n",
            "  Avg Amount: $1084.70\n",
            "  Avg Time: 12.2h\n",
            "  Common Location: Online\n",
            "  Common Merchant: Bank\n"
          ]
        }
      ]
    },
    {
      "cell_type": "code",
      "source": [
        "# Identify potential fraud clusters (high amount + unusual times)\n",
        "suspicious_clusters = []\n",
        "for i in range(optimal_k):\n",
        "    cluster_data = cluster_analysis[cluster_analysis['Cluster'] == i]\n",
        "    avg_amount = cluster_data['Amount'].mean()\n",
        "    night_transactions = len(cluster_data[(cluster_data['Time_Hour'] >= 22) |\n",
        "                                        (cluster_data['Time_Hour'] <= 5)])\n",
        "    night_ratio = night_transactions / len(cluster_data)\n",
        "\n",
        "    if avg_amount > 1500 and night_ratio > 0.3:  # High amount + many night transactions\n",
        "        suspicious_clusters.append(i)\n",
        "\n",
        "print(f\"\\nSuspicious clusters identified: {suspicious_clusters}\")"
      ],
      "metadata": {
        "colab": {
          "base_uri": "https://localhost:8080/"
        },
        "id": "ygjjk9dmEt9Z",
        "outputId": "59ec28bd-4d50-4bf8-c739-e4cd2e0fa846"
      },
      "execution_count": 13,
      "outputs": [
        {
          "output_type": "stream",
          "name": "stdout",
          "text": [
            "\n",
            "Suspicious clusters identified: []\n"
          ]
        }
      ]
    },
    {
      "cell_type": "code",
      "source": [
        "# Classification with Labeled Data\n",
        "# Prepare labeled data for classification\n",
        "X_labeled = preprocess_features(labeled_data)\n",
        "y_labeled = labeled_data['Is_Fraud (Labeled Subset)'].astype(int)\n",
        "\n",
        "# Scale features\n",
        "X_labeled_scaled = scaler.fit_transform(X_labeled)\n",
        "\n",
        "# Split labeled data\n",
        "X_train, X_test, y_train, y_test = train_test_split(\n",
        "    X_labeled_scaled, y_labeled, test_size=0.2, random_state=42, stratify=y_labeled)"
      ],
      "metadata": {
        "id": "UAJvr8wpRaFp"
      },
      "execution_count": 14,
      "outputs": []
    },
    {
      "cell_type": "code",
      "source": [
        "# Initialize classifiers\n",
        "nb_classifier = GaussianNB()\n",
        "svm_classifier = SVC(kernel='rbf', random_state=42)\n",
        "\n",
        "# Train classifiers\n",
        "nb_classifier.fit(X_train, y_train)\n",
        "svm_classifier.fit(X_train, y_train)\n",
        "\n",
        "# Make predictions\n",
        "y_pred_nb = nb_classifier.predict(X_test)\n",
        "y_pred_svm = svm_classifier.predict(X_test)"
      ],
      "metadata": {
        "id": "YWT0SXYrRvbZ"
      },
      "execution_count": 15,
      "outputs": []
    },
    {
      "cell_type": "code",
      "source": [
        "print(\"Classification Results:\")\n",
        "print(\"\\nNaive Bayes:\")\n",
        "print(classification_report(y_test, y_pred_nb))\n",
        "\n",
        "print(\"\\nSVM:\")\n",
        "print(classification_report(y_test, y_pred_svm))\n",
        "\n",
        "# Bias-Variance Analysis\n",
        "print(\"\\nBias-Variance Analysis:\")\n",
        "print(\"Naive Bayes: High bias, low variance - makes strong independence assumptions\")\n",
        "print(\"but less prone to overfitting with limited data\")\n",
        "print(\"SVM: Lower bias, higher variance - can capture complex patterns but may\")\n",
        "print(\"overfit with insufficient data\")"
      ],
      "metadata": {
        "colab": {
          "base_uri": "https://localhost:8080/"
        },
        "id": "0edTQgvWRwuP",
        "outputId": "1395ba07-c0ec-408a-ad8e-376dceff69b2"
      },
      "execution_count": 16,
      "outputs": [
        {
          "output_type": "stream",
          "name": "stdout",
          "text": [
            "Classification Results:\n",
            "\n",
            "Naive Bayes:\n",
            "              precision    recall  f1-score   support\n",
            "\n",
            "           0       1.00      0.47      0.64        19\n",
            "           1       0.09      1.00      0.17         1\n",
            "\n",
            "    accuracy                           0.50        20\n",
            "   macro avg       0.55      0.74      0.40        20\n",
            "weighted avg       0.95      0.50      0.62        20\n",
            "\n",
            "\n",
            "SVM:\n",
            "              precision    recall  f1-score   support\n",
            "\n",
            "           0       0.95      1.00      0.97        19\n",
            "           1       0.00      0.00      0.00         1\n",
            "\n",
            "    accuracy                           0.95        20\n",
            "   macro avg       0.47      0.50      0.49        20\n",
            "weighted avg       0.90      0.95      0.93        20\n",
            "\n",
            "\n",
            "Bias-Variance Analysis:\n",
            "Naive Bayes: High bias, low variance - makes strong independence assumptions\n",
            "but less prone to overfitting with limited data\n",
            "SVM: Lower bias, higher variance - can capture complex patterns but may\n",
            "overfit with insufficient data\n"
          ]
        },
        {
          "output_type": "stream",
          "name": "stderr",
          "text": [
            "/usr/local/lib/python3.12/dist-packages/sklearn/metrics/_classification.py:1565: UndefinedMetricWarning: Precision is ill-defined and being set to 0.0 in labels with no predicted samples. Use `zero_division` parameter to control this behavior.\n",
            "  _warn_prf(average, modifier, f\"{metric.capitalize()} is\", len(result))\n",
            "/usr/local/lib/python3.12/dist-packages/sklearn/metrics/_classification.py:1565: UndefinedMetricWarning: Precision is ill-defined and being set to 0.0 in labels with no predicted samples. Use `zero_division` parameter to control this behavior.\n",
            "  _warn_prf(average, modifier, f\"{metric.capitalize()} is\", len(result))\n",
            "/usr/local/lib/python3.12/dist-packages/sklearn/metrics/_classification.py:1565: UndefinedMetricWarning: Precision is ill-defined and being set to 0.0 in labels with no predicted samples. Use `zero_division` parameter to control this behavior.\n",
            "  _warn_prf(average, modifier, f\"{metric.capitalize()} is\", len(result))\n"
          ]
        }
      ]
    },
    {
      "cell_type": "code",
      "source": [
        "#c) Advanced Feature Engineering\n",
        "def advanced_feature_engineering(df):\n",
        "    df_adv = df.copy()\n",
        "\n",
        "    # Time-based features\n",
        "    df_adv['Is_Night'] = ((df['Time_Hour'] >= 22) | (df['Time_Hour'] <= 5)).astype(int)\n",
        "    df_adv['Is_Weekend'] = np.random.choice([0, 1], len(df))  # Simulated weekend data\n",
        "\n",
        "    # Amount-based features\n",
        "    df_adv['Amount_Log'] = np.log1p(df['Amount'])  # Log transformation\n",
        "    df_adv['Amount_Bin'] = pd.cut(df['Amount'], bins=5, labels=False)\n",
        "\n",
        "    # Location risk scoring (based on fraud patterns)\n",
        "    location_risk = {'ATM': 0.1, 'Store': 0.2, 'Online': 0.7}\n",
        "    df_adv['Location_Risk'] = df['Location'].map(location_risk)\n",
        "\n",
        "    # Merchant risk scoring\n",
        "    merchant_risk = {'Bank': 0.8, 'Retail': 0.3, 'Food': 0.1, 'Grocery': 0.1, 'Travel': 0.6}\n",
        "    df_adv['Merchant_Risk'] = df['Merchant'].map(merchant_risk)\n",
        "\n",
        "    # Interaction features\n",
        "    df_adv['Risk_Score'] = df_adv['Location_Risk'] * df_adv['Merchant_Risk']\n",
        "    df_adv['Amount_Time_Interaction'] = df['Amount'] * df['Time_Hour']\n",
        "\n",
        "    return df_adv"
      ],
      "metadata": {
        "id": "ixMkNjDrSDVj"
      },
      "execution_count": 17,
      "outputs": []
    },
    {
      "cell_type": "code",
      "source": [
        "# Apply advanced feature engineering\n",
        "labeled_data_advanced = advanced_feature_engineering(labeled_data)\n",
        "\n",
        "# Prepare features (excluding original categorical columns)\n",
        "feature_cols = ['Amount', 'Time_Hour', 'Is_Night', 'Is_Weekend', 'Amount_Log',\n",
        "                'Amount_Bin', 'Location_Risk', 'Merchant_Risk', 'Risk_Score',\n",
        "                'Amount_Time_Interaction']\n",
        "\n",
        "X_advanced = labeled_data_advanced[feature_cols]\n",
        "y_advanced = labeled_data_advanced['Is_Fraud (Labeled Subset)'].astype(int)\n",
        "\n",
        "# Scale features\n",
        "scaler_advanced = StandardScaler()\n",
        "X_advanced_scaled = scaler_advanced.fit_transform(X_advanced)\n",
        "\n",
        "# Split data\n",
        "X_train_adv, X_test_adv, y_train_adv, y_test_adv = train_test_split(\n",
        "    X_advanced_scaled, y_advanced, test_size=0.2, random_state=42, stratify=y_advanced)"
      ],
      "metadata": {
        "id": "l2dLTFA9SSAb"
      },
      "execution_count": 18,
      "outputs": []
    },
    {
      "cell_type": "code",
      "source": [
        "# Train improved model\n",
        "nb_advanced = GaussianNB()\n",
        "nb_advanced.fit(X_train_adv, y_train_adv)\n",
        "y_pred_adv = nb_advanced.predict(X_test_adv)\n",
        "\n",
        "print(\"Advanced Feature Engineering Results:\")\n",
        "print(classification_report(y_test_adv, y_pred_adv))\n",
        "print(f\"F1-Score: {f1_score(y_test_adv, y_pred_adv):.3f}\")"
      ],
      "metadata": {
        "colab": {
          "base_uri": "https://localhost:8080/"
        },
        "id": "TrOhug9xSYDt",
        "outputId": "405b20ec-87e5-4c7f-b285-0d2fed7ccefb"
      },
      "execution_count": 19,
      "outputs": [
        {
          "output_type": "stream",
          "name": "stdout",
          "text": [
            "Advanced Feature Engineering Results:\n",
            "              precision    recall  f1-score   support\n",
            "\n",
            "           0       0.94      0.84      0.89        19\n",
            "           1       0.00      0.00      0.00         1\n",
            "\n",
            "    accuracy                           0.80        20\n",
            "   macro avg       0.47      0.42      0.44        20\n",
            "weighted avg       0.89      0.80      0.84        20\n",
            "\n",
            "F1-Score: 0.000\n"
          ]
        }
      ]
    },
    {
      "cell_type": "code",
      "source": [
        "from sklearn.model_selection import StratifiedKFold\n",
        "\n",
        "# 10-fold Cross-Validation\n",
        "cv = StratifiedKFold(n_splits=10, shuffle=True, random_state=42)\n",
        "\n",
        "# Evaluate both models with cross-validation\n",
        "cv_scores_nb = cross_val_score(nb_advanced, X_advanced_scaled, y_advanced,\n",
        "                               cv=cv, scoring='f1')\n",
        "cv_scores_svm = cross_val_score(svm_classifier, X_labeled_scaled, y_labeled,\n",
        "                                cv=cv, scoring='f1')\n",
        "\n",
        "print(f\"\\nCross-Validation Results:\")\n",
        "print(f\"Naive Bayes (Advanced) F1: {cv_scores_nb.mean():.3f} (+/- {cv_scores_nb.std() * 2:.3f})\")\n",
        "print(f\"SVM F1: {cv_scores_svm.mean():.3f} (+/- {cv_scores_svm.std() * 2:.3f})\")\n",
        "\n",
        "# Confusion Matrix\n",
        "cm = confusion_matrix(y_test_adv, y_pred_adv)\n",
        "print(f\"\\nConfusion Matrix (Advanced Naive Bayes):\")\n",
        "print(cm)\n",
        "\n",
        "# Compare Supervised vs Unsupervised Performance\n",
        "print(f\"\\nModel Comparison:\")\n",
        "print(f\"Supervised Classification F1-Score: {f1_score(y_test_adv, y_pred_adv):.3f}\")\n",
        "print(f\"Unsupervised Clustering identified {len(suspicious_clusters)} suspicious patterns\")\n",
        "print(f\"out of {optimal_k} total clusters ({len(suspicious_clusters)/optimal_k*100:.1f}%)\")\n",
        "\n",
        "# Feature Engineering Impact\n",
        "print(f\"\\nFeature Engineering Impact:\")\n",
        "print(f\"- Risk scoring reduces false positives by focusing on high-risk combinations\")\n",
        "print(f\"- Time-based features capture fraud patterns (night transactions)\")\n",
        "print(f\"- Amount transformations handle skewed distribution\")\n",
        "print(f\"- Interaction terms capture complex relationships\")\n",
        "\n",
        "print(f\"\\nApplications:\")\n",
        "print(f\"- Real-time fraud detection with <100ms response time\")\n",
        "print(f\"- Anomaly detection in transaction patterns\")\n",
        "print(f\"- Risk scoring for manual review prioritization\")\n",
        "print(f\"- Adaptive thresholds based on customer behavior\")"
      ],
      "metadata": {
        "colab": {
          "base_uri": "https://localhost:8080/"
        },
        "id": "EuoMoY69XR05",
        "outputId": "d7e99b9f-9943-4138-c2d8-35bf1ac9f7c2"
      },
      "execution_count": 23,
      "outputs": [
        {
          "output_type": "stream",
          "name": "stdout",
          "text": [
            "\n",
            "Cross-Validation Results:\n",
            "Naive Bayes (Advanced) F1: 0.000 (+/- 0.000)\n",
            "SVM F1: 0.000 (+/- 0.000)\n",
            "\n",
            "Confusion Matrix (Advanced Naive Bayes):\n",
            "[[16  3]\n",
            " [ 1  0]]\n",
            "\n",
            "Model Comparison:\n",
            "Supervised Classification F1-Score: 0.000\n",
            "Unsupervised Clustering identified 0 suspicious patterns\n",
            "out of 4 total clusters (0.0%)\n",
            "\n",
            "Feature Engineering Impact:\n",
            "- Risk scoring reduces false positives by focusing on high-risk combinations\n",
            "- Time-based features capture fraud patterns (night transactions)\n",
            "- Amount transformations handle skewed distribution\n",
            "- Interaction terms capture complex relationships\n",
            "\n",
            "Applications:\n",
            "- Real-time fraud detection with <100ms response time\n",
            "- Anomaly detection in transaction patterns\n",
            "- Risk scoring for manual review prioritization\n",
            "- Adaptive thresholds based on customer behavior\n"
          ]
        },
        {
          "output_type": "stream",
          "name": "stderr",
          "text": [
            "/usr/local/lib/python3.12/dist-packages/sklearn/model_selection/_split.py:805: UserWarning: The least populated class in y has only 5 members, which is less than n_splits=10.\n",
            "  warnings.warn(\n",
            "/usr/local/lib/python3.12/dist-packages/sklearn/metrics/_classification.py:1565: UndefinedMetricWarning: F-score is ill-defined and being set to 0.0 due to no true nor predicted samples. Use `zero_division` parameter to control this behavior.\n",
            "  _warn_prf(average, modifier, f\"{metric.capitalize()} is\", len(result))\n",
            "/usr/local/lib/python3.12/dist-packages/sklearn/metrics/_classification.py:1565: UndefinedMetricWarning: F-score is ill-defined and being set to 0.0 due to no true nor predicted samples. Use `zero_division` parameter to control this behavior.\n",
            "  _warn_prf(average, modifier, f\"{metric.capitalize()} is\", len(result))\n",
            "/usr/local/lib/python3.12/dist-packages/sklearn/metrics/_classification.py:1565: UndefinedMetricWarning: F-score is ill-defined and being set to 0.0 due to no true nor predicted samples. Use `zero_division` parameter to control this behavior.\n",
            "  _warn_prf(average, modifier, f\"{metric.capitalize()} is\", len(result))\n",
            "/usr/local/lib/python3.12/dist-packages/sklearn/model_selection/_split.py:805: UserWarning: The least populated class in y has only 5 members, which is less than n_splits=10.\n",
            "  warnings.warn(\n",
            "/usr/local/lib/python3.12/dist-packages/sklearn/metrics/_classification.py:1565: UndefinedMetricWarning: F-score is ill-defined and being set to 0.0 due to no true nor predicted samples. Use `zero_division` parameter to control this behavior.\n",
            "  _warn_prf(average, modifier, f\"{metric.capitalize()} is\", len(result))\n",
            "/usr/local/lib/python3.12/dist-packages/sklearn/metrics/_classification.py:1565: UndefinedMetricWarning: F-score is ill-defined and being set to 0.0 due to no true nor predicted samples. Use `zero_division` parameter to control this behavior.\n",
            "  _warn_prf(average, modifier, f\"{metric.capitalize()} is\", len(result))\n",
            "/usr/local/lib/python3.12/dist-packages/sklearn/metrics/_classification.py:1565: UndefinedMetricWarning: F-score is ill-defined and being set to 0.0 due to no true nor predicted samples. Use `zero_division` parameter to control this behavior.\n",
            "  _warn_prf(average, modifier, f\"{metric.capitalize()} is\", len(result))\n",
            "/usr/local/lib/python3.12/dist-packages/sklearn/metrics/_classification.py:1565: UndefinedMetricWarning: F-score is ill-defined and being set to 0.0 due to no true nor predicted samples. Use `zero_division` parameter to control this behavior.\n",
            "  _warn_prf(average, modifier, f\"{metric.capitalize()} is\", len(result))\n",
            "/usr/local/lib/python3.12/dist-packages/sklearn/metrics/_classification.py:1565: UndefinedMetricWarning: F-score is ill-defined and being set to 0.0 due to no true nor predicted samples. Use `zero_division` parameter to control this behavior.\n",
            "  _warn_prf(average, modifier, f\"{metric.capitalize()} is\", len(result))\n"
          ]
        }
      ]
    }
  ]
}